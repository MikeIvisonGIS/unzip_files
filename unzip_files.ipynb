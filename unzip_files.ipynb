{
 "cells": [
  {
   "cell_type": "code",
   "execution_count": null,
   "id": "6d4a98ed",
   "metadata": {},
   "outputs": [],
   "source": [
    "# Import packages/modules\n",
    "import os, zipfile\n",
    "\n",
    "# Define folder location\n",
    "folder = input(\"Enter a file path: \")\n",
    "# Ex - folder = r\"Anchor\\Parent\\Name\n",
    "# Ex - folder = r\"C:\\file_path\\TIGER_Line_Census\"\n"
   ]
  },
  {
   "cell_type": "code",
   "execution_count": null,
   "id": "2e83e288",
   "metadata": {},
   "outputs": [],
   "source": [
    "# Walk the entire folder tree and print out the results\n",
    "for foldername, subfolders, filenames in os.walk(folder):\n",
    "    print(foldername)\n",
    "    print(subfolders)\n",
    "    print(filenames)"
   ]
  },
  {
   "cell_type": "code",
   "execution_count": null,
   "id": "3ea31c91",
   "metadata": {},
   "outputs": [],
   "source": [
    "# Search for any files that end with .zip.\n",
    "# For any files that match this criteria, unzip the files into a new folder \n",
    "# that matches the same name without the .zip ending.\n",
    "for filename in filenames:\n",
    "    if filename.endswith(\".zip\"):     \n",
    "        filePath = os.path.join(foldername, filename) # Join variable [folder] with the file ending in [.zip].\n",
    "        unzipPath = os.path.join(foldername, filename[:-4]) # Define the unzip location\n",
    "        unzipFolder = zipfile.ZipFile(filePath) # Create a zipfile variable to use\n",
    "        unzipFolder.extractall(unzipPath) # Unzip the file\n",
    "        unzipFolder.close() # Close the folder\n",
    "        os.remove(filePath) # Delete zipped file"
   ]
  }
 ],
 "metadata": {
  "kernelspec": {
   "display_name": "Python 3 (ipykernel)",
   "language": "python",
   "name": "python3"
  },
  "language_info": {
   "codemirror_mode": {
    "name": "ipython",
    "version": 3
   },
   "file_extension": ".py",
   "mimetype": "text/x-python",
   "name": "python",
   "nbconvert_exporter": "python",
   "pygments_lexer": "ipython3",
   "version": "3.10.9"
  }
 },
 "nbformat": 4,
 "nbformat_minor": 5
}
